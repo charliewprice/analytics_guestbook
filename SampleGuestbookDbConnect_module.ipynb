{
 "cells": [
  {
   "cell_type": "code",
   "execution_count": 4,
   "metadata": {},
   "outputs": [],
   "source": [
    "import GuestbookDbConnect as gdb"
   ]
  },
  {
   "cell_type": "code",
   "execution_count": 5,
   "metadata": {},
   "outputs": [
    {
     "name": "stdout",
     "output_type": "stream",
     "text": [
      "Welcome to Jupyter Notebook.  You are connected to the Opportunity House guestbook database!\n",
      "<connection object at 0x7fd5bcd302a8; dsn: 'user=gbuser password=xxx dbname=guestbookdb host=localhost port=5432', closed: 0>\n"
     ]
    }
   ],
   "source": [
    "conn = gdb.guestbookDbConnect()\n",
    "print(conn)"
   ]
  },
  {
   "cell_type": "code",
   "execution_count": null,
   "metadata": {},
   "outputs": [],
   "source": []
  }
 ],
 "metadata": {
  "kernelspec": {
   "display_name": "OppHouseVenv",
   "language": "python",
   "name": "opphousevenv"
  },
  "language_info": {
   "codemirror_mode": {
    "name": "ipython",
    "version": 3
   },
   "file_extension": ".py",
   "mimetype": "text/x-python",
   "name": "python",
   "nbconvert_exporter": "python",
   "pygments_lexer": "ipython3",
   "version": "3.7.3"
  }
 },
 "nbformat": 4,
 "nbformat_minor": 2
}
