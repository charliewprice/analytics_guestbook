{
 "cells": [
  {
   "cell_type": "markdown",
   "metadata": {},
   "source": [
    "# Client Profile\n",
    "Facts about an individual\n"
   ]
  },
  {
   "cell_type": "code",
   "execution_count": 27,
   "metadata": {},
   "outputs": [],
   "source": [
    "import ReportTimerange as rtr\n",
    "import ReportMailer as rm\n",
    "import GuestbookDbConnect as gdb"
   ]
  },
  {
   "cell_type": "markdown",
   "metadata": {},
   "source": [
    "# Reporting Period #\n",
    "* PD - yesterday\n",
    "* PW - previous week\n",
    "* PM - previous month\n",
    "* PQ - previous quarter\n",
    "* PY - previous calendar year\n",
    "* YTD year to date\n",
    "* WTD current week to date\n",
    "* TODAY today\n",
    "* P90 - previous 90days"
   ]
  },
  {
   "cell_type": "code",
   "execution_count": 28,
   "metadata": {},
   "outputs": [],
   "source": [
    "acronyms = [ \"PD\", \"PW\", \"PM\", \"PQ\", \"PY\", \"YTD\", \"WTD\", \"TODAY\", \"P90\"]\n",
    "friendly = [ \"Prior Day\", \"Prior Week\", \"Prior Month\", \"Prior Quarter\", \"Prior Year\", \"Year to Date\", \"Week to Date\", \"Today\", \"Previous 90 days\"]\n",
    "\n",
    "def toPeriodFriendly(INTERVAL):\n",
    "    for n in range(0, len(acronyms)):\n",
    "      if INTERVAL==acronyms[n]:\n",
    "         return friendly[n]\n",
    "    return \"Unknown Period\""
   ]
  },
  {
   "cell_type": "code",
   "execution_count": 29,
   "metadata": {},
   "outputs": [
    {
     "name": "stdout",
     "output_type": "stream",
     "text": [
      "82\n"
     ]
    }
   ],
   "source": [
    "import os\n",
    "import pandas as pd\n",
    "\n",
    "path = \"/home/gbadmin/jupy-notebooks/Reports/inqueue\"\n",
    "dir_list = os.listdir(path)\n",
    "\n",
    "if len(dir_list)>0:\n",
    "  filename = \"inqueue/{}\".format(dir_list[0])\n",
    "  print(filename)\n",
    "\n",
    "  rep = pd.read_json(filename, lines=True)\n",
    "\n",
    "  for _ , row in rep.iterrows():    \n",
    "    _IDPERSON = row['idperson']\n",
    "    _INTERVAL = 'PW'\n",
    " \n",
    "  # delete the file\n",
    "  os.remove(filename)  \n",
    "else:\n",
    "  _IDPERSON = 82\n",
    "  _INTERVAL = 'PW'\n",
    "\n",
    "print(_IDPERSON)"
   ]
  },
  {
   "cell_type": "code",
   "execution_count": 30,
   "metadata": {},
   "outputs": [],
   "source": [
    "from pandas import ExcelWriter\n",
    "from pandas import ExcelFile\n",
    "import xlsxwriter\n",
    "import datetime\n",
    "\n",
    "def createSpreadsheetAndMailIt(collections, reportname, recipients, subject, body):\n",
    "  now = datetime.datetime.now().strftime('%Y-%m-%d_%H%M%S')\n",
    "  filename = reportname + \"-\" + now + \".xlsx\"\n",
    "  #writer = ExcelWriter(filename)\n",
    "  writer = ExcelWriter(filename, engine='xlsxwriter')\n",
    "  workbook = writer.book  \n",
    "  print(\"Writing dataframe to Excel file {0}\".format(filename))\n",
    "  for collection in collections:\n",
    "    print(\"Writing {} to spreadsheet\".format(collection[\"name\"]))\n",
    "    collection[\"dataframe\"].to_excel(writer, sheet_name=collection[\"name\"], index=False)\n",
    "    worksheet = writer.sheets[collection[\"name\"]]\n",
    "    if 'colwidths' in collection:\n",
    "      colwidths = collection['colwidths']\n",
    "      print(\"colwidths={}\".format(colwidths))\n",
    "      for n in range(0, len(colwidths)):\n",
    "        col = str(chr(65 + n))\n",
    "        worksheet.set_column('{}:{}'.format(col,col), colwidths[n])\n",
    "    else:\n",
    "      worksheet.set_column('A:A', 30)\n",
    "  writer.save()\n",
    "  for recipient in recipients: \n",
    "    rm.mailer(recipient, subject, body, filename)\n",
    "  print(\"Excel/Email Done!\")"
   ]
  },
  {
   "cell_type": "code",
   "execution_count": 31,
   "metadata": {},
   "outputs": [
    {
     "name": "stdout",
     "output_type": "stream",
     "text": [
      "Welcome to Jupyter Notebook.  You are connected to the Opportunity House guestbook database!\n"
     ]
    }
   ],
   "source": [
    "import psycopg2 as pg\n",
    "import pandas.io.sql as psql\n",
    "import pandas as pd\n",
    "import GuestbookDbConnect as gdb\n",
    "\n",
    "conn = gdb.guestbookDbConnect()"
   ]
  },
  {
   "cell_type": "markdown",
   "metadata": {},
   "source": [
    "# Basic Information"
   ]
  },
  {
   "cell_type": "code",
   "execution_count": 40,
   "metadata": {},
   "outputs": [
    {
     "name": "stdout",
     "output_type": "stream",
     "text": [
      "   idperson firstname lastname  alias               sexoffender  verteran  \\\n",
      "0        82      RECO     REID  DUMMY  registeredSexOffender_id         3   \n",
      "\n",
      "   credits             timelinestart  currentlysuspended  \n",
      "0       32 2018-05-28 00:00:01+00:00               False  \n",
      "index RangeIndex(start=0, stop=1, step=1)\n",
      "columns Index(['idperson', 'firstname', 'lastname', 'alias', 'sexoffender', 'verteran',\n",
      "       'credits', 'timelinestart', 'currentlysuspended'],\n",
      "      dtype='object')\n",
      "start date 0    RECO\n",
      "Name: firstname, dtype: object\n"
     ]
    }
   ],
   "source": [
    "collection = {}\n",
    "collection[\"name\"] = \"Basic Information\"\n",
    "\n",
    "collections = []\n",
    "\n",
    "person_query = \"select idperson, firstname, lastname, aliasname as alias, \\\n",
    "                'registeredSexOffender_id' as sexoffender,  veteran_id as verteran,  credits, \\\n",
    "                timelinestarttime as timelinestart,  iscurrentlysuspended as currentlysuspended\\\n",
    "                from guestbook_person \\\n",
    "                WHERE idperson={}\".format(_IDPERSON)\n",
    "\n",
    "#print(person_query)\n",
    "\n",
    "person = pd.read_sql(person_query, conn)\n",
    "\n",
    "collection[\"dataframe\"] = person \n",
    "collection[\"colwidths\"] = [30, 20]\n",
    "collections.append(collection)\n",
    "\n",
    "print(person)\n",
    "\n",
    "print(\"index {}\".format(person.index))\n",
    "print(\"columns {}\".format(person.columns))\n",
    "\n",
    "print(\"start date {}\".format(person['firstname']))"
   ]
  },
  {
   "cell_type": "code",
   "execution_count": 25,
   "metadata": {},
   "outputs": [
    {
     "name": "stdout",
     "output_type": "stream",
     "text": [
      "[datetime.datetime(2022, 1, 23, 0, 0), datetime.datetime(2022, 1, 29, 23, 59, 59, 999999), 'YYYY-MM/DD DY']\n"
     ]
    }
   ],
   "source": [
    "trange = rtr.timerange(_INTERVAL)\n",
    "print(trange)"
   ]
  },
  {
   "cell_type": "markdown",
   "metadata": {},
   "source": [
    "# Create and mail spreadsheet"
   ]
  },
  {
   "cell_type": "code",
   "execution_count": 26,
   "metadata": {},
   "outputs": [
    {
     "name": "stdout",
     "output_type": "stream",
     "text": [
      "Writing dataframe to Excel file PW-2022-01-30_142754.xlsx\n",
      "Writing Basic Information to spreadsheet\n"
     ]
    },
    {
     "ename": "TypeError",
     "evalue": "Excel doesn't support timezones in datetimes. Set the tzinfo in the datetime/time object to None or use the 'remove_timezone' Workbook() option",
     "output_type": "error",
     "traceback": [
      "\u001b[0;31m---------------------------------------------------------------------------\u001b[0m",
      "\u001b[0;31mTypeError\u001b[0m                                 Traceback (most recent call last)",
      "\u001b[0;32m<ipython-input-26-7fde3c21d619>\u001b[0m in \u001b[0;36m<module>\u001b[0;34m\u001b[0m\n\u001b[1;32m      5\u001b[0m \u001b[0m_EMAIL_RECIPIENT\u001b[0m \u001b[0;34m=\u001b[0m \u001b[0;34m[\u001b[0m\u001b[0;34m'cprice9739@carolina.rr.com'\u001b[0m\u001b[0;34m]\u001b[0m\u001b[0;34m\u001b[0m\u001b[0;34m\u001b[0m\u001b[0m\n\u001b[1;32m      6\u001b[0m \u001b[0;34m\u001b[0m\u001b[0m\n\u001b[0;32m----> 7\u001b[0;31m \u001b[0mcreateSpreadsheetAndMailIt\u001b[0m\u001b[0;34m(\u001b[0m\u001b[0mcollections\u001b[0m\u001b[0;34m,\u001b[0m \u001b[0m_REPORTNAME\u001b[0m\u001b[0;34m,\u001b[0m \u001b[0m_EMAIL_RECIPIENT\u001b[0m\u001b[0;34m,\u001b[0m \u001b[0m_SUBJECT\u001b[0m\u001b[0;34m,\u001b[0m \u001b[0m_BODY\u001b[0m\u001b[0;34m)\u001b[0m\u001b[0;34m\u001b[0m\u001b[0;34m\u001b[0m\u001b[0m\n\u001b[0m",
      "\u001b[0;32m<ipython-input-22-9805fb625618>\u001b[0m in \u001b[0;36mcreateSpreadsheetAndMailIt\u001b[0;34m(collections, reportname, recipients, subject, body)\u001b[0m\n\u001b[1;32m     13\u001b[0m   \u001b[0;32mfor\u001b[0m \u001b[0mcollection\u001b[0m \u001b[0;32min\u001b[0m \u001b[0mcollections\u001b[0m\u001b[0;34m:\u001b[0m\u001b[0;34m\u001b[0m\u001b[0;34m\u001b[0m\u001b[0m\n\u001b[1;32m     14\u001b[0m     \u001b[0mprint\u001b[0m\u001b[0;34m(\u001b[0m\u001b[0;34m\"Writing {} to spreadsheet\"\u001b[0m\u001b[0;34m.\u001b[0m\u001b[0mformat\u001b[0m\u001b[0;34m(\u001b[0m\u001b[0mcollection\u001b[0m\u001b[0;34m[\u001b[0m\u001b[0;34m\"name\"\u001b[0m\u001b[0;34m]\u001b[0m\u001b[0;34m)\u001b[0m\u001b[0;34m)\u001b[0m\u001b[0;34m\u001b[0m\u001b[0;34m\u001b[0m\u001b[0m\n\u001b[0;32m---> 15\u001b[0;31m     \u001b[0mcollection\u001b[0m\u001b[0;34m[\u001b[0m\u001b[0;34m\"dataframe\"\u001b[0m\u001b[0;34m]\u001b[0m\u001b[0;34m.\u001b[0m\u001b[0mto_excel\u001b[0m\u001b[0;34m(\u001b[0m\u001b[0mwriter\u001b[0m\u001b[0;34m,\u001b[0m \u001b[0msheet_name\u001b[0m\u001b[0;34m=\u001b[0m\u001b[0mcollection\u001b[0m\u001b[0;34m[\u001b[0m\u001b[0;34m\"name\"\u001b[0m\u001b[0;34m]\u001b[0m\u001b[0;34m,\u001b[0m \u001b[0mindex\u001b[0m\u001b[0;34m=\u001b[0m\u001b[0;32mFalse\u001b[0m\u001b[0;34m)\u001b[0m\u001b[0;34m\u001b[0m\u001b[0;34m\u001b[0m\u001b[0m\n\u001b[0m\u001b[1;32m     16\u001b[0m     \u001b[0mworksheet\u001b[0m \u001b[0;34m=\u001b[0m \u001b[0mwriter\u001b[0m\u001b[0;34m.\u001b[0m\u001b[0msheets\u001b[0m\u001b[0;34m[\u001b[0m\u001b[0mcollection\u001b[0m\u001b[0;34m[\u001b[0m\u001b[0;34m\"name\"\u001b[0m\u001b[0;34m]\u001b[0m\u001b[0;34m]\u001b[0m\u001b[0;34m\u001b[0m\u001b[0;34m\u001b[0m\u001b[0m\n\u001b[1;32m     17\u001b[0m     \u001b[0;32mif\u001b[0m \u001b[0;34m'colwidths'\u001b[0m \u001b[0;32min\u001b[0m \u001b[0mcollection\u001b[0m\u001b[0;34m:\u001b[0m\u001b[0;34m\u001b[0m\u001b[0;34m\u001b[0m\u001b[0m\n",
      "\u001b[0;32m~/anaconda3/envs/OppHouseBooks/lib/python3.7/site-packages/pandas/core/generic.py\u001b[0m in \u001b[0;36mto_excel\u001b[0;34m(self, excel_writer, sheet_name, na_rep, float_format, columns, header, index, index_label, startrow, startcol, engine, merge_cells, encoding, inf_rep, verbose, freeze_panes)\u001b[0m\n\u001b[1;32m   2125\u001b[0m         formatter.write(excel_writer, sheet_name=sheet_name, startrow=startrow,\n\u001b[1;32m   2126\u001b[0m                         \u001b[0mstartcol\u001b[0m\u001b[0;34m=\u001b[0m\u001b[0mstartcol\u001b[0m\u001b[0;34m,\u001b[0m \u001b[0mfreeze_panes\u001b[0m\u001b[0;34m=\u001b[0m\u001b[0mfreeze_panes\u001b[0m\u001b[0;34m,\u001b[0m\u001b[0;34m\u001b[0m\u001b[0;34m\u001b[0m\u001b[0m\n\u001b[0;32m-> 2127\u001b[0;31m                         engine=engine)\n\u001b[0m\u001b[1;32m   2128\u001b[0m \u001b[0;34m\u001b[0m\u001b[0m\n\u001b[1;32m   2129\u001b[0m     def to_json(self, path_or_buf=None, orient=None, date_format=None,\n",
      "\u001b[0;32m~/anaconda3/envs/OppHouseBooks/lib/python3.7/site-packages/pandas/io/formats/excel.py\u001b[0m in \u001b[0;36mwrite\u001b[0;34m(self, writer, sheet_name, startrow, startcol, freeze_panes, engine)\u001b[0m\n\u001b[1;32m    660\u001b[0m         writer.write_cells(formatted_cells, sheet_name,\n\u001b[1;32m    661\u001b[0m                            \u001b[0mstartrow\u001b[0m\u001b[0;34m=\u001b[0m\u001b[0mstartrow\u001b[0m\u001b[0;34m,\u001b[0m \u001b[0mstartcol\u001b[0m\u001b[0;34m=\u001b[0m\u001b[0mstartcol\u001b[0m\u001b[0;34m,\u001b[0m\u001b[0;34m\u001b[0m\u001b[0;34m\u001b[0m\u001b[0m\n\u001b[0;32m--> 662\u001b[0;31m                            freeze_panes=freeze_panes)\n\u001b[0m\u001b[1;32m    663\u001b[0m         \u001b[0;32mif\u001b[0m \u001b[0mneed_save\u001b[0m\u001b[0;34m:\u001b[0m\u001b[0;34m\u001b[0m\u001b[0;34m\u001b[0m\u001b[0m\n\u001b[1;32m    664\u001b[0m             \u001b[0mwriter\u001b[0m\u001b[0;34m.\u001b[0m\u001b[0msave\u001b[0m\u001b[0;34m(\u001b[0m\u001b[0;34m)\u001b[0m\u001b[0;34m\u001b[0m\u001b[0;34m\u001b[0m\u001b[0m\n",
      "\u001b[0;32m~/anaconda3/envs/OppHouseBooks/lib/python3.7/site-packages/pandas/io/excel.py\u001b[0m in \u001b[0;36mwrite_cells\u001b[0;34m(self, cells, sheet_name, startrow, startcol, freeze_panes)\u001b[0m\n\u001b[1;32m   1991\u001b[0m                 wks.write(startrow + cell.row,\n\u001b[1;32m   1992\u001b[0m                           \u001b[0mstartcol\u001b[0m \u001b[0;34m+\u001b[0m \u001b[0mcell\u001b[0m\u001b[0;34m.\u001b[0m\u001b[0mcol\u001b[0m\u001b[0;34m,\u001b[0m\u001b[0;34m\u001b[0m\u001b[0;34m\u001b[0m\u001b[0m\n\u001b[0;32m-> 1993\u001b[0;31m                           val, style)\n\u001b[0m\u001b[1;32m   1994\u001b[0m \u001b[0;34m\u001b[0m\u001b[0m\n\u001b[1;32m   1995\u001b[0m \u001b[0;34m\u001b[0m\u001b[0m\n",
      "\u001b[0;32m~/anaconda3/envs/OppHouseBooks/lib/python3.7/site-packages/xlsxwriter/worksheet.py\u001b[0m in \u001b[0;36mcell_wrapper\u001b[0;34m(self, *args, **kwargs)\u001b[0m\n\u001b[1;32m     67\u001b[0m             \u001b[0margs\u001b[0m \u001b[0;34m=\u001b[0m \u001b[0mnew_args\u001b[0m \u001b[0;34m+\u001b[0m \u001b[0margs\u001b[0m\u001b[0;34m[\u001b[0m\u001b[0;36m1\u001b[0m\u001b[0;34m:\u001b[0m\u001b[0;34m]\u001b[0m\u001b[0;34m\u001b[0m\u001b[0;34m\u001b[0m\u001b[0m\n\u001b[1;32m     68\u001b[0m \u001b[0;34m\u001b[0m\u001b[0m\n\u001b[0;32m---> 69\u001b[0;31m         \u001b[0;32mreturn\u001b[0m \u001b[0mmethod\u001b[0m\u001b[0;34m(\u001b[0m\u001b[0mself\u001b[0m\u001b[0;34m,\u001b[0m \u001b[0;34m*\u001b[0m\u001b[0margs\u001b[0m\u001b[0;34m,\u001b[0m \u001b[0;34m**\u001b[0m\u001b[0mkwargs\u001b[0m\u001b[0;34m)\u001b[0m\u001b[0;34m\u001b[0m\u001b[0;34m\u001b[0m\u001b[0m\n\u001b[0m\u001b[1;32m     70\u001b[0m \u001b[0;34m\u001b[0m\u001b[0m\n\u001b[1;32m     71\u001b[0m     \u001b[0;32mreturn\u001b[0m \u001b[0mcell_wrapper\u001b[0m\u001b[0;34m\u001b[0m\u001b[0;34m\u001b[0m\u001b[0m\n",
      "\u001b[0;32m~/anaconda3/envs/OppHouseBooks/lib/python3.7/site-packages/xlsxwriter/worksheet.py\u001b[0m in \u001b[0;36mwrite\u001b[0;34m(self, row, col, *args)\u001b[0m\n\u001b[1;32m    416\u001b[0m \u001b[0;34m\u001b[0m\u001b[0m\n\u001b[1;32m    417\u001b[0m         \"\"\"\n\u001b[0;32m--> 418\u001b[0;31m         \u001b[0;32mreturn\u001b[0m \u001b[0mself\u001b[0m\u001b[0;34m.\u001b[0m\u001b[0m_write\u001b[0m\u001b[0;34m(\u001b[0m\u001b[0mrow\u001b[0m\u001b[0;34m,\u001b[0m \u001b[0mcol\u001b[0m\u001b[0;34m,\u001b[0m \u001b[0;34m*\u001b[0m\u001b[0margs\u001b[0m\u001b[0;34m)\u001b[0m\u001b[0;34m\u001b[0m\u001b[0;34m\u001b[0m\u001b[0m\n\u001b[0m\u001b[1;32m    419\u001b[0m \u001b[0;34m\u001b[0m\u001b[0m\n\u001b[1;32m    420\u001b[0m     \u001b[0;31m# Undecorated version of write().\u001b[0m\u001b[0;34m\u001b[0m\u001b[0;34m\u001b[0m\u001b[0;34m\u001b[0m\u001b[0m\n",
      "\u001b[0;32m~/anaconda3/envs/OppHouseBooks/lib/python3.7/site-packages/xlsxwriter/worksheet.py\u001b[0m in \u001b[0;36m_write\u001b[0;34m(self, row, col, *args)\u001b[0m\n\u001b[1;32m    487\u001b[0m         \u001b[0;31m# Write datetime objects.\u001b[0m\u001b[0;34m\u001b[0m\u001b[0;34m\u001b[0m\u001b[0;34m\u001b[0m\u001b[0m\n\u001b[1;32m    488\u001b[0m         \u001b[0;32mif\u001b[0m \u001b[0msupported_datetime\u001b[0m\u001b[0;34m(\u001b[0m\u001b[0mtoken\u001b[0m\u001b[0;34m)\u001b[0m\u001b[0;34m:\u001b[0m\u001b[0;34m\u001b[0m\u001b[0;34m\u001b[0m\u001b[0m\n\u001b[0;32m--> 489\u001b[0;31m             \u001b[0;32mreturn\u001b[0m \u001b[0mself\u001b[0m\u001b[0;34m.\u001b[0m\u001b[0m_write_datetime\u001b[0m\u001b[0;34m(\u001b[0m\u001b[0mrow\u001b[0m\u001b[0;34m,\u001b[0m \u001b[0mcol\u001b[0m\u001b[0;34m,\u001b[0m \u001b[0;34m*\u001b[0m\u001b[0margs\u001b[0m\u001b[0;34m)\u001b[0m\u001b[0;34m\u001b[0m\u001b[0;34m\u001b[0m\u001b[0m\n\u001b[0m\u001b[1;32m    490\u001b[0m \u001b[0;34m\u001b[0m\u001b[0m\n\u001b[1;32m    491\u001b[0m         \u001b[0;31m# We haven't matched a supported type. Try float.\u001b[0m\u001b[0;34m\u001b[0m\u001b[0;34m\u001b[0m\u001b[0;34m\u001b[0m\u001b[0m\n",
      "\u001b[0;32m~/anaconda3/envs/OppHouseBooks/lib/python3.7/site-packages/xlsxwriter/worksheet.py\u001b[0m in \u001b[0;36m_write_datetime\u001b[0;34m(self, row, col, date, cell_format)\u001b[0m\n\u001b[1;32m    782\u001b[0m \u001b[0;34m\u001b[0m\u001b[0m\n\u001b[1;32m    783\u001b[0m         \u001b[0;31m# Convert datetime to an Excel date.\u001b[0m\u001b[0;34m\u001b[0m\u001b[0;34m\u001b[0m\u001b[0;34m\u001b[0m\u001b[0m\n\u001b[0;32m--> 784\u001b[0;31m         \u001b[0mnumber\u001b[0m \u001b[0;34m=\u001b[0m \u001b[0mself\u001b[0m\u001b[0;34m.\u001b[0m\u001b[0m_convert_date_time\u001b[0m\u001b[0;34m(\u001b[0m\u001b[0mdate\u001b[0m\u001b[0;34m)\u001b[0m\u001b[0;34m\u001b[0m\u001b[0;34m\u001b[0m\u001b[0m\n\u001b[0m\u001b[1;32m    785\u001b[0m \u001b[0;34m\u001b[0m\u001b[0m\n\u001b[1;32m    786\u001b[0m         \u001b[0;31m# Add the default date format.\u001b[0m\u001b[0;34m\u001b[0m\u001b[0;34m\u001b[0m\u001b[0;34m\u001b[0m\u001b[0m\n",
      "\u001b[0;32m~/anaconda3/envs/OppHouseBooks/lib/python3.7/site-packages/xlsxwriter/worksheet.py\u001b[0m in \u001b[0;36m_convert_date_time\u001b[0;34m(self, dt_obj)\u001b[0m\n\u001b[1;32m   3890\u001b[0m         return datetime_to_excel_datetime(dt_obj,\n\u001b[1;32m   3891\u001b[0m                                           \u001b[0mself\u001b[0m\u001b[0;34m.\u001b[0m\u001b[0mdate_1904\u001b[0m\u001b[0;34m,\u001b[0m\u001b[0;34m\u001b[0m\u001b[0;34m\u001b[0m\u001b[0m\n\u001b[0;32m-> 3892\u001b[0;31m                                           self.remove_timezone)\n\u001b[0m\u001b[1;32m   3893\u001b[0m \u001b[0;34m\u001b[0m\u001b[0m\n\u001b[1;32m   3894\u001b[0m     \u001b[0;32mdef\u001b[0m \u001b[0m_convert_name_area\u001b[0m\u001b[0;34m(\u001b[0m\u001b[0mself\u001b[0m\u001b[0;34m,\u001b[0m \u001b[0mrow_num_1\u001b[0m\u001b[0;34m,\u001b[0m \u001b[0mcol_num_1\u001b[0m\u001b[0;34m,\u001b[0m \u001b[0mrow_num_2\u001b[0m\u001b[0;34m,\u001b[0m \u001b[0mcol_num_2\u001b[0m\u001b[0;34m)\u001b[0m\u001b[0;34m:\u001b[0m\u001b[0;34m\u001b[0m\u001b[0;34m\u001b[0m\u001b[0m\n",
      "\u001b[0;32m~/anaconda3/envs/OppHouseBooks/lib/python3.7/site-packages/xlsxwriter/utility.py\u001b[0m in \u001b[0;36mdatetime_to_excel_datetime\u001b[0;34m(dt_obj, date_1904, remove_timezone)\u001b[0m\n\u001b[1;32m    663\u001b[0m     \u001b[0;31m# them to datetime.datetime objects and process them in the same way.\u001b[0m\u001b[0;34m\u001b[0m\u001b[0;34m\u001b[0m\u001b[0;34m\u001b[0m\u001b[0m\n\u001b[1;32m    664\u001b[0m     \u001b[0;32mif\u001b[0m \u001b[0misinstance\u001b[0m\u001b[0;34m(\u001b[0m\u001b[0mdt_obj\u001b[0m\u001b[0;34m,\u001b[0m \u001b[0mdatetime\u001b[0m\u001b[0;34m.\u001b[0m\u001b[0mdatetime\u001b[0m\u001b[0;34m)\u001b[0m\u001b[0;34m:\u001b[0m\u001b[0;34m\u001b[0m\u001b[0;34m\u001b[0m\u001b[0m\n\u001b[0;32m--> 665\u001b[0;31m         \u001b[0mdt_obj\u001b[0m \u001b[0;34m=\u001b[0m \u001b[0mremove_datetime_timezone\u001b[0m\u001b[0;34m(\u001b[0m\u001b[0mdt_obj\u001b[0m\u001b[0;34m,\u001b[0m \u001b[0mremove_timezone\u001b[0m\u001b[0;34m)\u001b[0m\u001b[0;34m\u001b[0m\u001b[0;34m\u001b[0m\u001b[0m\n\u001b[0m\u001b[1;32m    666\u001b[0m         \u001b[0mdelta\u001b[0m \u001b[0;34m=\u001b[0m \u001b[0mdt_obj\u001b[0m \u001b[0;34m-\u001b[0m \u001b[0mepoch\u001b[0m\u001b[0;34m\u001b[0m\u001b[0;34m\u001b[0m\u001b[0m\n\u001b[1;32m    667\u001b[0m     \u001b[0;32melif\u001b[0m \u001b[0misinstance\u001b[0m\u001b[0;34m(\u001b[0m\u001b[0mdt_obj\u001b[0m\u001b[0;34m,\u001b[0m \u001b[0mdatetime\u001b[0m\u001b[0;34m.\u001b[0m\u001b[0mdate\u001b[0m\u001b[0;34m)\u001b[0m\u001b[0;34m:\u001b[0m\u001b[0;34m\u001b[0m\u001b[0;34m\u001b[0m\u001b[0m\n",
      "\u001b[0;32m~/anaconda3/envs/OppHouseBooks/lib/python3.7/site-packages/xlsxwriter/utility.py\u001b[0m in \u001b[0;36mremove_datetime_timezone\u001b[0;34m(dt_obj, remove_timezone)\u001b[0m\n\u001b[1;32m    640\u001b[0m         \u001b[0;32mif\u001b[0m \u001b[0mdt_obj\u001b[0m\u001b[0;34m.\u001b[0m\u001b[0mtzinfo\u001b[0m\u001b[0;34m:\u001b[0m\u001b[0;34m\u001b[0m\u001b[0;34m\u001b[0m\u001b[0m\n\u001b[1;32m    641\u001b[0m             raise TypeError(\n\u001b[0;32m--> 642\u001b[0;31m                 \u001b[0;34m\"Excel doesn't support timezones in datetimes. \"\u001b[0m\u001b[0;34m\u001b[0m\u001b[0;34m\u001b[0m\u001b[0m\n\u001b[0m\u001b[1;32m    643\u001b[0m                 \u001b[0;34m\"Set the tzinfo in the datetime/time object to None or \"\u001b[0m\u001b[0;34m\u001b[0m\u001b[0;34m\u001b[0m\u001b[0m\n\u001b[1;32m    644\u001b[0m                 \"use the 'remove_timezone' Workbook() option\")\n",
      "\u001b[0;31mTypeError\u001b[0m: Excel doesn't support timezones in datetimes. Set the tzinfo in the datetime/time object to None or use the 'remove_timezone' Workbook() option"
     ]
    }
   ],
   "source": [
    "_REPORTNAME = _INTERVAL\n",
    "_SUBJECT = \"Opportunity House - Reports for {}\".format(toPeriodFriendly(_INTERVAL))\n",
    "_BODY    = \"Spreadsheet (attached) with reports for period {} through {}.\".format(trange[0], trange[1])\n",
    "\n",
    "_EMAIL_RECIPIENT = ['cprice9739@carolina.rr.com']\n",
    "\n",
    "createSpreadsheetAndMailIt(collections, _REPORTNAME, _EMAIL_RECIPIENT, _SUBJECT, _BODY)"
   ]
  },
  {
   "cell_type": "code",
   "execution_count": null,
   "metadata": {},
   "outputs": [],
   "source": []
  }
 ],
 "metadata": {
  "kernelspec": {
   "display_name": "OppHouseVenv",
   "language": "python",
   "name": "opphousevenv"
  },
  "language_info": {
   "codemirror_mode": {
    "name": "ipython",
    "version": 3
   },
   "file_extension": ".py",
   "mimetype": "text/x-python",
   "name": "python",
   "nbconvert_exporter": "python",
   "pygments_lexer": "ipython3",
   "version": "3.7.3"
  }
 },
 "nbformat": 4,
 "nbformat_minor": 2
}
