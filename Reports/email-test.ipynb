{
 "cells": [
  {
   "cell_type": "code",
   "execution_count": 1,
   "metadata": {},
   "outputs": [],
   "source": [
    "import email, smtplib, ssl\n",
    "\n",
    "from email import encoders\n",
    "from email.mime.base import MIMEBase\n",
    "from email.mime.multipart import MIMEMultipart\n",
    "from email.mime.text import MIMEText"
   ]
  },
  {
   "cell_type": "code",
   "execution_count": 14,
   "metadata": {},
   "outputs": [],
   "source": [
    "def mailer(receiver_email, subject, body, filename):\n",
    "\n",
    "  #subject = subj\n",
    "  #body = \"This is an email with attachment sent from Python\"\n",
    "  sender_email = \"holobox@gmail.com\"\n",
    "  #receiver_email = \"cprice9739@carolina.rr.com\"\n",
    "  password = \"ffnnbjkoexeokdgj\"\n",
    "\n",
    "  # Create a multipart message and set headers\n",
    "  message = MIMEMultipart()\n",
    "  message[\"From\"] = sender_email\n",
    "  message[\"To\"] = receiver_email\n",
    "  message[\"Subject\"] = subject\n",
    "  message[\"Bcc\"] = receiver_email  # Recommended for mass emails\n",
    "\n",
    "  # Add body to email\n",
    "  message.attach(MIMEText(body, \"plain\"))\n",
    "\n",
    "  #filename = \"Untitled1.ipynb\"  # In same directory as script\n",
    "\n",
    "  # Open PDF file in binary mode\n",
    "  with open(filename, \"rb\") as attachment:\n",
    "    # Add file as application/octet-stream\n",
    "    # Email client can usually download this automatically as attachment\n",
    "    part = MIMEBase(\"application\", \"octet-stream\")\n",
    "    part.set_payload(attachment.read())\n",
    "\n",
    "  # Encode file in ASCII characters to send by email    \n",
    "  encoders.encode_base64(part)\n",
    "\n",
    "  # Add header as key/value pair to attachment part\n",
    "  part.add_header(\n",
    "    \"Content-Disposition\",\n",
    "    f\"attachment; filename= {filename}\",\n",
    "  )\n",
    "\n",
    "  # Add attachment to message and convert message to string\n",
    "  message.attach(part)\n",
    "  text = message.as_string()\n",
    "\n",
    "  # Log in to server using secure context and send email\n",
    "  context = ssl.create_default_context()\n",
    "  with smtplib.SMTP_SSL(\"smtp.gmail.com\", 465, context=context) as server:\n",
    "    server.login(sender_email, password)\n",
    "    server.sendmail(sender_email, receiver_email, text)\n",
    "    \n",
    "  print(\"Done!\")"
   ]
  },
  {
   "cell_type": "code",
   "execution_count": 15,
   "metadata": {},
   "outputs": [
    {
     "name": "stdout",
     "output_type": "stream",
     "text": [
      "Done!\n"
     ]
    }
   ],
   "source": [
    "mailer('cprice9739@carolina.rr.com', 'Your Report', \"Here it is attached...\", \"Untitled2.ipynb\")"
   ]
  },
  {
   "cell_type": "code",
   "execution_count": null,
   "metadata": {},
   "outputs": [],
   "source": []
  }
 ],
 "metadata": {
  "kernelspec": {
   "display_name": "OppHouseVenv",
   "language": "python",
   "name": "opphousevenv"
  },
  "language_info": {
   "codemirror_mode": {
    "name": "ipython",
    "version": 3
   },
   "file_extension": ".py",
   "mimetype": "text/x-python",
   "name": "python",
   "nbconvert_exporter": "python",
   "pygments_lexer": "ipython3",
   "version": "3.7.3"
  }
 },
 "nbformat": 4,
 "nbformat_minor": 2
}
