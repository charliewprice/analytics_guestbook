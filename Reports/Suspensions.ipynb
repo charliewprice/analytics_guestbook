{
 "cells": [
  {
   "cell_type": "code",
   "execution_count": 11,
   "metadata": {},
   "outputs": [
    {
     "name": "stdout",
     "output_type": "stream",
     "text": [
      "============================================\n",
      "/  Guestbook Suspensions is running.   /\n",
      "============================================\n"
     ]
    }
   ],
   "source": [
    "import os\n",
    "import sys\n",
    "sys.path.append('/home/sensei/jupy-notebooks/Guestbook')\n",
    "print(\"============================================\")\n",
    "print(\"/  Guestbook Suspensions is running.   /\")\n",
    "print(\"============================================\")\n",
    "import requests\n",
    "from datetime import datetime, timedelta\n",
    "import pytz\n",
    "import json\n",
    "import psycopg2 as pg\n",
    "import pandas.io.sql as psql\n",
    "import pandas as pd\n",
    "import configparser\n",
    "import time"
   ]
  },
  {
   "cell_type": "code",
   "execution_count": 12,
   "metadata": {},
   "outputs": [],
   "source": [
    "def getDbConnection(dbhost, dbport, dbname, dbuser, dbpass):\n",
    "  conn_str = \"host={0} port={1} dbname={2} user={3} password={4}\".format(dbhost, dbport, dbname, dbuser, dbpass)\n",
    "  try:\n",
    "    conn = pg.connect(conn_str)\n",
    "    return conn\n",
    "  except pg.OperationalError:\n",
    "    return None"
   ]
  },
  {
   "cell_type": "code",
   "execution_count": 13,
   "metadata": {},
   "outputs": [
    {
     "name": "stdout",
     "output_type": "stream",
     "text": [
      "/home/gbadmin/jupy-notebooks/Reports\n",
      "localhost 5432 guestbookdb postgres w0lfpack\n",
      "Welcome to Jupyter Notebook.  You are connected to the Guestbook database!\n"
     ]
    }
   ],
   "source": [
    "print(os.getcwd())\n",
    "config = configparser.ConfigParser()\n",
    "config.read(\"../guestbook_secrets.ini\")\n",
    "\n",
    "_DB_HOST  = config['guestbookdb']['dbhost']\n",
    "_DB_PORT  = config['guestbookdb']['dbport']\n",
    "_DB_NAME  = config['guestbookdb']['dbname']\n",
    "_DB_USER  = config['guestbookdb']['dbuser']\n",
    "_DB_PASS  = config['guestbookdb']['dbpass']\n",
    "    \n",
    "_LOG_DEBUG = 0\n",
    "_LOG_INFO  = 1\n",
    "_LOG_ERROR = 2\n",
    "_LOG_LEVEL = int(config['DEFAULT']['loglevel'])  \n",
    "    \n",
    "def logger(level, message):\n",
    "    if level >= _LOG_LEVEL:\n",
    "      print(message)\n",
    "\n",
    "logger(_LOG_DEBUG, \"{} {} {} {} {}\".format(_DB_HOST, _DB_PORT, _DB_NAME, _DB_USER, _DB_PASS))\n",
    "\n",
    "conn = getDbConnection(_DB_HOST, _DB_PORT, _DB_NAME, _DB_USER, _DB_PASS)\n",
    "if conn is not None:\n",
    "  print(\"Welcome to Jupyter Notebook.  You are connected to the Guestbook database!\")\n",
    "else:\n",
    "  print(\"You are not connected to the database.\")"
   ]
  },
  {
   "cell_type": "code",
   "execution_count": 14,
   "metadata": {},
   "outputs": [
    {
     "name": "stdout",
     "output_type": "stream",
     "text": [
      "UPDATE guestbook_person             SET iscurrentlySuspended=false\n",
      "1216 rows are reset\n"
     ]
    }
   ],
   "source": [
    "# reset iscurrentlysuspended on all records\n",
    "resetsql = \"UPDATE guestbook_person \\\n",
    "            SET iscurrentlySuspended=false\"\n",
    "\n",
    "logger(_LOG_DEBUG, resetsql)\n",
    "cur = conn.cursor()\n",
    "cur.execute(resetsql)\n",
    "# get the number of updated rows\n",
    "updated_rows = cur.rowcount\n",
    "logger(_LOG_DEBUG, \"{} rows are reset\".format(updated_rows))\n",
    "# Commit the changes to the database\n",
    "conn.commit()"
   ]
  },
  {
   "cell_type": "code",
   "execution_count": 15,
   "metadata": {},
   "outputs": [
    {
     "name": "stdout",
     "output_type": "stream",
     "text": [
      "SELECT *              FROM guestbook_suspension              WHERE endtime>'2021-07-21 13:19:56.190970'\n",
      "number of active suspensions 2\n",
      "person 17 is suspended until 2021-07-25 03:59:59.160332+00:00\n",
      "UPDATE guestbook_person                    SET iscurrentlySuspended=True                    WHERE idperson=17\n",
      "1 rows are updated\n",
      "person 17 is suspended until 2021-07-25 03:59:59.689805+00:00\n",
      "UPDATE guestbook_person                    SET iscurrentlySuspended=True                    WHERE idperson=17\n",
      "1 rows are updated\n"
     ]
    }
   ],
   "source": [
    "currenttime = datetime.now()\n",
    "\n",
    "currenttime = currenttime\n",
    "\n",
    "suspensionsquery = \"SELECT * \\\n",
    "             FROM guestbook_suspension \\\n",
    "             WHERE endtime>'{}'\".format(currenttime)\n",
    "\n",
    "logger(_LOG_DEBUG, suspensionsquery)\n",
    "df = pd.read_sql(suspensionsquery, conn)\n",
    "\n",
    "logger(_LOG_DEBUG, \"number of active suspensions {}\".format(len(df.index)))\n",
    "for ind in df.index:\n",
    "    personid = df['person_id'][ind]\n",
    "    reasonid = df['reason_id'][ind]\n",
    "    starttime = df['starttime'][ind]\n",
    "    endtime = df['endtime'][ind]\n",
    "    logger(_LOG_DEBUG, \"person {} is suspended until {}\".format(personid, endtime))\n",
    "    # mark the person record 'iscurrentlysuspended=True'\n",
    "    updatesql = \"UPDATE guestbook_person \\\n",
    "                   SET iscurrentlySuspended=True \\\n",
    "                   WHERE idperson={}\".format(personid)\n",
    "    logger(_LOG_DEBUG, updatesql)\n",
    "    cur = conn.cursor()\n",
    "    cur.execute(updatesql)\n",
    "    # get the number of updated rows\n",
    "    updated_rows = cur.rowcount\n",
    "    logger(_LOG_DEBUG, \"{} rows are updated\".format(updated_rows))\n",
    "    # Commit the changes to the database\n",
    "    conn.commit()\n",
    "    "
   ]
  },
  {
   "cell_type": "code",
   "execution_count": null,
   "metadata": {},
   "outputs": [],
   "source": []
  }
 ],
 "metadata": {
  "kernelspec": {
   "display_name": "Python 3",
   "language": "python",
   "name": "python3"
  },
  "language_info": {
   "codemirror_mode": {
    "name": "ipython",
    "version": 3
   },
   "file_extension": ".py",
   "mimetype": "text/x-python",
   "name": "python",
   "nbconvert_exporter": "python",
   "pygments_lexer": "ipython3",
   "version": "3.6.5"
  }
 },
 "nbformat": 4,
 "nbformat_minor": 2
}
