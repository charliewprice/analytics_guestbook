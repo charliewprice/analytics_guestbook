{
 "cells": [
  {
   "cell_type": "code",
   "execution_count": 1,
   "metadata": {},
   "outputs": [],
   "source": [
    "#Person Counts in Period"
   ]
  },
  {
   "cell_type": "code",
   "execution_count": 4,
   "metadata": {},
   "outputs": [
    {
     "name": "stdout",
     "output_type": "stream",
     "text": [
      "Welcome to Jupyter Notebook.  You are connected to the Opportunity House guestbook database!\n"
     ]
    }
   ],
   "source": [
    "import psycopg2 as pg\n",
    "import pandas.io.sql as psql\n",
    "from datetime import datetime\n",
    "conn_str = \"host={0} port={1} dbname={2} user={3} password={4}\" \\\n",
    ".format(\"localhost\", 5432, \"guestbookdb\", \"gbuser\", \"w0lfpack\")\n",
    "\n",
    "try:\n",
    "    conn = pg.connect(conn_str)\n",
    "    print(\"Welcome to Jupyter Notebook.  You are connected to the Opportunity House guestbook database!\")\n",
    "except pg.OperationalError:\n",
    "    print(\"You are not connected to the database.\")"
   ]
  },
  {
   "cell_type": "code",
   "execution_count": null,
   "metadata": {},
   "outputs": [],
   "source": []
  }
 ],
 "metadata": {
  "kernelspec": {
   "display_name": "Python 3",
   "language": "python",
   "name": "python3"
  },
  "language_info": {
   "codemirror_mode": {
    "name": "ipython",
    "version": 3
   },
   "file_extension": ".py",
   "mimetype": "text/x-python",
   "name": "python",
   "nbconvert_exporter": "python",
   "pygments_lexer": "ipython3",
   "version": "3.7.3"
  }
 },
 "nbformat": 4,
 "nbformat_minor": 2
}
